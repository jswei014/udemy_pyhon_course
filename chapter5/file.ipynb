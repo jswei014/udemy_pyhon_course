{
 "cells": [
  {
   "attachments": {},
   "cell_type": "markdown",
   "metadata": {},
   "source": [
    "## 79. Intro to I/O with FIles"
   ]
  },
  {
   "cell_type": "code",
   "execution_count": 12,
   "metadata": {},
   "outputs": [
    {
     "name": "stdout",
     "output_type": "stream",
     "text": [
      "Taiwan is \n"
     ]
    }
   ],
   "source": [
    "file = open(\"paper.txt\")\n",
    "\n",
    "line = file.read(10)\n",
    "print(line)\n"
   ]
  },
  {
   "cell_type": "code",
   "execution_count": 13,
   "metadata": {},
   "outputs": [
    {
     "name": "stdout",
     "output_type": "stream",
     "text": [
      "Taiwan is in danger of losing one of its few formal allies, Honduras, as the Central American nation seeks official relations with China.\n",
      "\n"
     ]
    }
   ],
   "source": [
    "file = open(\"paper.txt\")\n",
    "\n",
    "line = file.readline()\n",
    "print(line)\n"
   ]
  },
  {
   "cell_type": "code",
   "execution_count": 1,
   "metadata": {},
   "outputs": [
    {
     "name": "stdout",
     "output_type": "stream",
     "text": [
      "Taiwan is in danger of losing one of its few formal allies, Honduras, as the Central American nation seeks official relations with China.\n",
      "\n",
      "\n",
      "\n",
      "Honduran President Xiomara Castro said the pivot aims to expand foreign engagements.\n",
      "\n",
      "\n",
      "\n",
      "Taiwan promptly cautioned Honduras against falling into China's \"trap\".\n",
      "\n",
      "\n",
      "\n",
      "China has long tried to isolate Taiwan and prohibits its partners from keeping ties with the island which it considers part of its territory.\n",
      "\n",
      "\n",
      "\n",
      "Should Honduras switch sides to China, Taiwan would be recognised by just 13 governments.\n",
      "\n",
      "\n",
      "\n",
      "It will also widen Beijing's foothold in a region that has historically sided with its rival Washington.\n",
      "\n",
      "\n",
      "\n",
      "On Wednesday, China's foreign ministry welcomed the Honduras leader's statement and said it was willing to develop \"friendly and cooperative relations\" with the country.\n",
      "\n",
      "\n",
      "\n",
      "China has sought to expand its influence around the world as its leader, Xi Jinping, consolidates power back home while reviving the economy from the bruising zero-Covid policy.\n",
      "\n",
      "\n",
      "\n",
      "Taiwan has lost eight diplomatic allies since 2016, when Tsai Ing-wen was elected as president.\n",
      "\n",
      "\n",
      "\n",
      "Ms Castro, who assumed office in 2021, said she had instructed her foreign minister to pursue official relations with China, fulfilling one of her campaign pledges.\n",
      "\n",
      "\n",
      "\n",
      "The Honduran president did not specifically say if relations with Taiwan would be cut. However in January 2022, she said she hoped to keep those ties.\n",
      "\n",
      "\n",
      "\n",
      "Weeks before Ms Castro's announcement, her government said it was negotiating with China to build a hydroelectric dam. Beijing had lent Honduras $300m (瞿246m) for a similar project in 2021.\n",
      "\n",
      "\n",
      "\n",
      "\"We ask Honduras to carefully consider and do not fall into China's trap and make the wrong decision to damage the long-term friendship between Taiwan and Honduras,\" the island's foreign ministry said in a statement.\n",
      "\n",
      "\n",
      "\n",
      "Ms Castro's move also comes ahead of Taiwan President Tsai Ing-wen's planned trip to its Central American allies with a stopover in the US next month - a move that will likely increase friction between Washington and Beijing.\n",
      "\n",
      "\n",
      "\n",
      "Ms Tsai's visit will include a meeting with US House Speaker Kevin McCarthy. She had met Mr McCarthy's predecessor, Nancy Pelosi, in Taipei last year to Beijing's fury.\n",
      "\n",
      "\n",
      "\n",
      "As China charms Latin America, it has continued to assert itself on the other side of the world.\n",
      "\n",
      "\n",
      "\n",
      "The outgoing president of the Pacific island nation of Micronesia, David Panuelo, accused China of spying and attempting to bribe local politicians to bring his country to Beijing's side. Mr Panuelo's claims were contained in a letter to congress last week.\n"
     ]
    }
   ],
   "source": [
    "file = open(\"paper.txt\")\n",
    "\n",
    "for line in file.readlines():\n",
    "    print(line)\n"
   ]
  },
  {
   "attachments": {},
   "cell_type": "markdown",
   "metadata": {},
   "source": [
    "## 80. readline, readlines and close"
   ]
  },
  {
   "cell_type": "code",
   "execution_count": 1,
   "metadata": {},
   "outputs": [
    {
     "name": "stdout",
     "output_type": "stream",
     "text": [
      "Taiwan is in danger of losing one of its few formal allies, Honduras, as the Central American nation seeks official relations with China.\n",
      "\n",
      "\n",
      "\n",
      "Honduran President Xiomara Castro said the pivot aims to expand foreign engagements.\n",
      "\n",
      "\n",
      "\n",
      "Taiwan promptly cautioned Honduras against falling into China's \"trap\".\n",
      "\n",
      "\n",
      "\n",
      "China has long tried to isolate Taiwan and prohibits its partners from keeping ties with the island which it considers part of its territory.\n",
      "\n",
      "\n",
      "\n",
      "Should Honduras switch sides to China, Taiwan would be recognised by just 13 governments.\n",
      "\n",
      "\n",
      "\n",
      "It will also widen Beijing's foothold in a region that has historically sided with its rival Washington.\n",
      "\n",
      "\n",
      "\n",
      "On Wednesday, China's foreign ministry welcomed the Honduras leader's statement and said it was willing to develop \"friendly and cooperative relations\" with the country.\n",
      "\n",
      "\n",
      "\n",
      "China has sought to expand its influence around the world as its leader, Xi Jinping, consolidates power back home while reviving the economy from the bruising zero-Covid policy.\n",
      "\n",
      "\n",
      "\n",
      "Taiwan has lost eight diplomatic allies since 2016, when Tsai Ing-wen was elected as president.\n",
      "\n",
      "\n",
      "\n",
      "Ms Castro, who assumed office in 2021, said she had instructed her foreign minister to pursue official relations with China, fulfilling one of her campaign pledges.\n",
      "\n",
      "\n",
      "\n",
      "The Honduran president did not specifically say if relations with Taiwan would be cut. However in January 2022, she said she hoped to keep those ties.\n",
      "\n",
      "\n",
      "\n",
      "Weeks before Ms Castro's announcement, her government said it was negotiating with China to build a hydroelectric dam. Beijing had lent Honduras $300m (瞿246m) for a similar project in 2021.\n",
      "\n",
      "\n",
      "\n",
      "\"We ask Honduras to carefully consider and do not fall into China's trap and make the wrong decision to damage the long-term friendship between Taiwan and Honduras,\" the island's foreign ministry said in a statement.\n",
      "\n",
      "\n",
      "\n",
      "Ms Castro's move also comes ahead of Taiwan President Tsai Ing-wen's planned trip to its Central American allies with a stopover in the US next month - a move that will likely increase friction between Washington and Beijing.\n",
      "\n",
      "\n",
      "\n",
      "Ms Tsai's visit will include a meeting with US House Speaker Kevin McCarthy. She had met Mr McCarthy's predecessor, Nancy Pelosi, in Taipei last year to Beijing's fury.\n",
      "\n",
      "\n",
      "\n",
      "As China charms Latin America, it has continued to assert itself on the other side of the world.\n",
      "\n",
      "\n",
      "\n",
      "The outgoing president of the Pacific island nation of Micronesia, David Panuelo, accused China of spying and attempting to bribe local politicians to bring his country to Beijing's side. Mr Panuelo's claims were contained in a letter to congress last week.\n"
     ]
    }
   ],
   "source": [
    "file = open(\"paper.txt\")\n",
    "\n",
    "while True:\n",
    "\tinput = file.readline()\n",
    "\tif not input:\n",
    "\t\tbreak\n",
    "\telse:\n",
    "\t\tprint(input)"
   ]
  }
 ],
 "metadata": {
  "kernelspec": {
   "display_name": "Python 3",
   "language": "python",
   "name": "python3"
  },
  "language_info": {
   "codemirror_mode": {
    "name": "ipython",
    "version": 3
   },
   "file_extension": ".py",
   "mimetype": "text/x-python",
   "name": "python",
   "nbconvert_exporter": "python",
   "pygments_lexer": "ipython3",
   "version": "3.10.4"
  },
  "orig_nbformat": 4
 },
 "nbformat": 4,
 "nbformat_minor": 2
}
